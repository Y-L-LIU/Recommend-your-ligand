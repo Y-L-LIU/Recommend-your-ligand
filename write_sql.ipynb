{
 "cells": [
  {
   "cell_type": "code",
   "execution_count": 2,
   "metadata": {
    "collapsed": true
   },
   "outputs": [],
   "source": [
    "def luDecomposition(mat, n):\n",
    "\n",
    "    lower = [[0 for x in range(n)]\n",
    "             for y in range(n)]\n",
    "    upper = [[0 for x in range(n)]\n",
    "             for y in range(n)]\n",
    "\n",
    "    # Decomposing matrix into Upper\n",
    "    # and Lower triangular matrix\n",
    "    for i in range(n):\n",
    "\n",
    "        # Upper Triangular\n",
    "        for k in range(i, n):\n",
    "\n",
    "            # Summation of L(i, j) * U(j, k)\n",
    "            sum = 0\n",
    "            for j in range(i):\n",
    "                sum += (lower[i][j] * upper[j][k])\n",
    "\n",
    "            # Evaluating U(i, k)\n",
    "            upper[i][k] = mat[i][k] - sum\n",
    "\n",
    "        # Lower Triangular\n",
    "        for k in range(i, n):\n",
    "            if (i == k):\n",
    "                lower[i][i] = 1  # Diagonal as 1\n",
    "            else:\n",
    "\n",
    "                # Summation of L(k, j) * U(j, i)\n",
    "                sum = 0\n",
    "                for j in range(i):\n",
    "                    sum += (lower[k][j] * upper[j][i])\n",
    "\n",
    "                # Evaluating L(k, i)\n",
    "                lower[k][i] = int((mat[k][i] - sum) /\n",
    "                                  upper[i][i])\n",
    "\n",
    "    # setw is for displaying nicely\n",
    "    print(\"Lower Triangular\\t\\tUpper Triangular\")\n",
    "\n",
    "    # Displaying the result :\n",
    "    for i in range(n):\n",
    "\n",
    "        # Lower\n",
    "        for j in range(n):\n",
    "            print(lower[i][j], end=\"\\t\")\n",
    "        print(\"\", end=\"\\t\")\n",
    "\n",
    "        # Upper\n",
    "        for j in range(n):\n",
    "            print(upper[i][j], end=\"\\t\")\n",
    "        print(\"\")"
   ]
  },
  {
   "cell_type": "code",
   "execution_count": 6,
   "outputs": [
    {
     "name": "stdout",
     "output_type": "stream",
     "text": [
      "A:\n",
      "[[1, 2, 3], [2, 6, 10], [3, 10, 20]]\n",
      "L:\n",
      "[[1.0, 0.0, 0.0],\n",
      " [2.0, 1.4142135623730951, 0.0],\n",
      " [3.0, 2.82842712474619, 1.7320508075688772]]\n"
     ]
    }
   ],
   "source": [
    "from math import sqrt\n",
    "from pprint import pprint\n",
    "\n",
    "def cholesky(A):\n",
    "    \"\"\"Performs a Cholesky decomposition of A, which must\n",
    "    be a symmetric and positive definite matrix. The function\n",
    "    returns the lower variant triangular matrix, L.\"\"\"\n",
    "    n = len(A)\n",
    "\n",
    "    # Create zero matrix for L\n",
    "    L = [[0.0] * n for i in range(n)]\n",
    "\n",
    "    # Perform the Cholesky decomposition\n",
    "    for i in range(n):\n",
    "        for k in range(i+1):\n",
    "            tmp_sum = sum(L[i][j] * L[k][j] for j in range(k))\n",
    "\n",
    "            if (i == k): # Diagonal elements\n",
    "                # LaTeX: l_{kk} = \\sqrt{ a_{kk} - \\sum^{k-1}_{j=1} l^2_{kj}}\n",
    "                L[i][k] = sqrt(A[i][i] - tmp_sum)\n",
    "            else:\n",
    "                # LaTeX: l_{ik} = \\frac{1}{l_{kk}} \\left( a_{ik} - \\sum^{k-1}_{j=1} l_{ij} l_{kj} \\right)\n",
    "                L[i][k] = (1.0 / L[k][k] * (A[i][k] - tmp_sum))\n",
    "    return L\n",
    "\n",
    "A = [[1,2,3], [2,6,10], [3,10,20]]\n",
    "L = cholesky(A)\n",
    "\n",
    "print( \"A:\")\n",
    "pprint(A)\n",
    "\n",
    "print (\"L:\")\n",
    "pprint(L)"
   ],
   "metadata": {
    "collapsed": false,
    "pycharm": {
     "name": "#%%\n"
    }
   }
  },
  {
   "cell_type": "code",
   "execution_count": 3,
   "outputs": [
    {
     "name": "stdout",
     "output_type": "stream",
     "text": [
      "Lower Triangular\t\tUpper Triangular\n",
      "1\t0\t0\t\t1\t2\t3\t\n",
      "2\t1\t0\t\t0\t2\t4\t\n",
      "3\t2\t1\t\t0\t0\t3\t\n"
     ]
    }
   ],
   "source": [
    "mat = [[1,2,3],\n",
    "       [2,6,10],\n",
    "       [3,10,20]]\n",
    "\n",
    "luDecomposition(mat, 3)"
   ],
   "metadata": {
    "collapsed": false,
    "pycharm": {
     "name": "#%%\n"
    }
   }
  }
 ],
 "metadata": {
  "kernelspec": {
   "display_name": "Python 3",
   "language": "python",
   "name": "python3"
  },
  "language_info": {
   "codemirror_mode": {
    "name": "ipython",
    "version": 2
   },
   "file_extension": ".py",
   "mimetype": "text/x-python",
   "name": "python",
   "nbconvert_exporter": "python",
   "pygments_lexer": "ipython2",
   "version": "2.7.6"
  }
 },
 "nbformat": 4,
 "nbformat_minor": 0
}