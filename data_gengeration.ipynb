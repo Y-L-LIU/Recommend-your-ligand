{
 "cells": [
  {
   "cell_type": "code",
   "execution_count": 1,
   "metadata": {
    "collapsed": true
   },
   "outputs": [],
   "source": [
    "AA_dict = {\n",
    "'ALA': 'A', 'ARG': 'R',\n",
    "'ASN': 'N', 'ASP': 'D',\n",
    "'CYS': 'C', 'GLU': 'E',\n",
    "'GLN': 'Q', 'GLY': 'G',\n",
    "'HIE': 'H', 'HID': 'H',\n",
    "'HIS': 'H', 'ILE': 'I',\n",
    "'LEU': 'L', 'LYS': 'K',\n",
    "'MET': 'M', 'PHE': 'F',\n",
    "'PRO': 'P', 'SER': 'S',\n",
    "'THR': 'T', 'TRP': 'W',\n",
    "'TYR': 'Y', 'VAL': 'V',\n",
    "'SEC': 'U', 'PYL': 'O',\n",
    "'CYX': 'C',\n",
    "}\n",
    "\n",
    "def pdb2seq(file):\n",
    "    assert file.lower().endswith('.pdb'), \"Accepts PDB files only!\"\n",
    "    seq_number_prev = -2\n",
    "    aa_sequence = ''\n",
    "    code_insert_residue_prev = None\n",
    "    aa_seq_list = []\n",
    "    aa_num_list = []\n",
    "    with open(file, 'r') as f:\n",
    "        for line in f:\n",
    "            # only accepts ATOM for amino acid PDB\n",
    "            # HETATM is not contained in PDB\n",
    "            if not line.startswith('ATOM'):\n",
    "                continue\n",
    "            residue = line[17:20]\n",
    "            # Residue sequence number + Code for insertions of residues\n",
    "            seq_number = int(line[22:26])\n",
    "            code_insert_residue = line[26:27]\n",
    "            if seq_number_prev == seq_number and \\\n",
    "                code_insert_residue_prev == code_insert_residue:\n",
    "                continue\n",
    "            else:\n",
    "                # do not repeat '/' in sequence\n",
    "                # if sequence number stops / breaks from a continous list\n",
    "                if seq_number_prev + 1 < seq_number and seq_number_prev > 0 \\\n",
    "                    and aa_sequence[-1] != '/':\n",
    "                    aa_sequence += '/'\n",
    "                aa_sequence += AA_dict[residue]\n",
    "                aa_seq_list.append(AA_dict[residue])\n",
    "                # if code_insert_residue appears\n",
    "                if code_insert_residue != \" \" \\\n",
    "                    and aa_sequence[-1] != '/':\n",
    "                    aa_sequence += '/'\n",
    "\n",
    "                seq_number_prev = seq_number\n",
    "                code_insert_residue_prev = code_insert_residue\n",
    "                aa_num_list.append(str(seq_number)+code_insert_residue.strip())\n",
    "    return aa_sequence.replace('/',''), aa_seq_list, aa_num_list"
   ]
  },
  {
   "cell_type": "code",
   "execution_count": 26,
   "outputs": [],
   "source": [
    "import numpy as np\n",
    "import pandas as pd\n",
    "import matplotlib as plt\n",
    "from rdkit import Chem"
   ],
   "metadata": {
    "collapsed": false,
    "pycharm": {
     "name": "#%%\n"
    }
   }
  },
  {
   "cell_type": "code",
   "execution_count": 35,
   "outputs": [],
   "source": [
    "import os\n",
    "dir_name_1 = './data/refined-set'\n",
    "dirs1 = os.listdir(dir_name_1)\n",
    "with open('./protein_sequence.csv','w') as f:\n",
    "    f.write('id'+',')\n",
    "    f.write('sequence'+',')\n",
    "    f.write('ligand'+'\\n')\n",
    "    for i in dirs1[:len(dirs1)-2]:\n",
    "        filename = dir_name_1+'/%s/%s_protein.pdb'%(i, i)\n",
    "        aa_sequence, aa_seq_list, aa_num_list = pdb2seq(filename)\n",
    "        f.write(i+',')\n",
    "        f.write(aa_sequence+',')\n",
    "        file_mol=Chem.SDMolSupplier(dir_name_1+'/%s/%s_ligand.sdf'%(i,i))\n",
    "        for x in file_mol:\n",
    "            if x:\n",
    "                smiles=Chem.MolToSmiles(x)\n",
    "                f.write(smiles)\n",
    "        f.write('\\n')"
   ],
   "metadata": {
    "collapsed": false,
    "pycharm": {
     "name": "#%%\n"
    }
   }
  },
  {
   "cell_type": "code",
   "execution_count": 36,
   "outputs": [],
   "source": [
    "dir_name_1 = './data/refined-set'\n",
    "dirs1 = os.listdir(dir_name_1)\n",
    "with open('./pocket_sequence.csv','w') as f:\n",
    "    f.write('id'+',')\n",
    "    f.write('sequence'+',')\n",
    "    f.write('ligand'+'\\n')\n",
    "    for i in dirs1[:len(dirs1)-2]:\n",
    "        filename = dir_name_1+'/%s/%s_pocket.pdb'%(i, i)\n",
    "        aa_sequence, aa_seq_list, aa_num_list = pdb2seq(filename)\n",
    "        f.write(i+',')\n",
    "        f.write(aa_sequence+',')\n",
    "        file_mol=Chem.SDMolSupplier(dir_name_1+'/%s/%s_ligand.sdf'%(i,i))\n",
    "        for x in file_mol:\n",
    "            if x:\n",
    "                smiles=Chem.MolToSmiles(x)\n",
    "                f.write(smiles)\n",
    "        f.write('\\n')"
   ],
   "metadata": {
    "collapsed": false,
    "pycharm": {
     "name": "#%%\n"
    }
   }
  },
  {
   "cell_type": "code",
   "execution_count": 61,
   "outputs": [],
   "source": [
    "data1=pd.read_csv('./pocket_sequence.csv')\n",
    "data2=pd.read_csv('./protein_sequence.csv')"
   ],
   "metadata": {
    "collapsed": false,
    "pycharm": {
     "name": "#%%\n"
    }
   }
  },
  {
   "cell_type": "code",
   "execution_count": 66,
   "outputs": [
    {
     "data": {
      "text/plain": "         id                                           sequence  \\\n0      10gs  YFPVRGRCLVTVEWQLKCYGQLPKYQSNTILERCIIYNPINGNGMD...   \n1      11gs  YFPVRGRCALVTVEWQGLKCYGQLPKYQSNTILERCYISIYIPING...   \n2      13gs             YFPVRGRCVVTVETWQQLPSERCYISIYTNLPINGNGK   \n3      16pk  DNRHRRFGTAHRVGGAKVDKLGGAMAYKSKCPHVCFIMALDIWNGP...   \n4      184l   AVGILNKLKPVYDSLRRAAINMVFMGEGVAGFTNSLRMLQWANLWVIF   \n...     ...                                                ...   \n19438  966c      FDGGNLAHAFAHFDEWYNLHRVAAHELGHSHSIGALMYPSYTFSV   \n19439  9abp     KQEPWFECTPPVDDQLVMMAAIALDTARRNMNDSTINGVDLGSPHV   \n19440  9hvp  RPLLLDTGADDTVLKMIGGIGGFIVLTPVNIIGRRLLDTGADDTVK...   \n19441  9icd         GIGDVPLTIGIAATHGTAPKYKVNPGSITYDFRLCNIAQQLR   \n19442  9lpr   ISLCSAGHCFPDGRTTVTANYAEGVLCMGRGDSGGMSGGNVQGNNSSL   \n\n                                                  ligand  \n0      [NH3+]C(CCC(=O)NC(CSCc1ccccc1)C(=O)NC(C(=O)O)c...  \n1      CCC(CSCC(NC(=O)CCC([NH3+])C(=O)O)C(=O)NCC(=O)O...  \n2      O=C(O)c1cc(/N=N/c2ccc(S(=O)(=O)Nc3ccccn3)cc2)c...  \n3      Nc1ncnc2c1ncn2C1OC(COP(=O)(O)OP(=O)(O)C(F)(F)C...  \n4                                         CC(C)Cc1ccccc1  \n...                                                  ...  \n19438     O=C(CC1(S(=O)(=O)c2ccc(Oc3ccccc3)cc2)CCOCC1)NO  \n19439                               OCC1OC(O)C(O)C(O)C1O  \n19440  CC(C)C(NC(=O)OCc1ccccc1)C(=O)NC(Cc1ccccc1)C(O)...  \n19441    Nc1ncnc2c1ncn2C1OC(COP(=O)(O)O)C(O)C1OP(=O)(O)O  \n19442  CC(C)CC(NC(=O)C1CCCN1C(=O)C(C)NC(=O)C(C)[NH3+]...  \n\n[16200 rows x 3 columns]",
      "text/html": "<div>\n<style scoped>\n    .dataframe tbody tr th:only-of-type {\n        vertical-align: middle;\n    }\n\n    .dataframe tbody tr th {\n        vertical-align: top;\n    }\n\n    .dataframe thead th {\n        text-align: right;\n    }\n</style>\n<table border=\"1\" class=\"dataframe\">\n  <thead>\n    <tr style=\"text-align: right;\">\n      <th></th>\n      <th>id</th>\n      <th>sequence</th>\n      <th>ligand</th>\n    </tr>\n  </thead>\n  <tbody>\n    <tr>\n      <th>0</th>\n      <td>10gs</td>\n      <td>YFPVRGRCLVTVEWQLKCYGQLPKYQSNTILERCIIYNPINGNGMD...</td>\n      <td>[NH3+]C(CCC(=O)NC(CSCc1ccccc1)C(=O)NC(C(=O)O)c...</td>\n    </tr>\n    <tr>\n      <th>1</th>\n      <td>11gs</td>\n      <td>YFPVRGRCALVTVEWQGLKCYGQLPKYQSNTILERCYISIYIPING...</td>\n      <td>CCC(CSCC(NC(=O)CCC([NH3+])C(=O)O)C(=O)NCC(=O)O...</td>\n    </tr>\n    <tr>\n      <th>2</th>\n      <td>13gs</td>\n      <td>YFPVRGRCVVTVETWQQLPSERCYISIYTNLPINGNGK</td>\n      <td>O=C(O)c1cc(/N=N/c2ccc(S(=O)(=O)Nc3ccccn3)cc2)c...</td>\n    </tr>\n    <tr>\n      <th>3</th>\n      <td>16pk</td>\n      <td>DNRHRRFGTAHRVGGAKVDKLGGAMAYKSKCPHVCFIMALDIWNGP...</td>\n      <td>Nc1ncnc2c1ncn2C1OC(COP(=O)(O)OP(=O)(O)C(F)(F)C...</td>\n    </tr>\n    <tr>\n      <th>4</th>\n      <td>184l</td>\n      <td>AVGILNKLKPVYDSLRRAAINMVFMGEGVAGFTNSLRMLQWANLWVIF</td>\n      <td>CC(C)Cc1ccccc1</td>\n    </tr>\n    <tr>\n      <th>...</th>\n      <td>...</td>\n      <td>...</td>\n      <td>...</td>\n    </tr>\n    <tr>\n      <th>19438</th>\n      <td>966c</td>\n      <td>FDGGNLAHAFAHFDEWYNLHRVAAHELGHSHSIGALMYPSYTFSV</td>\n      <td>O=C(CC1(S(=O)(=O)c2ccc(Oc3ccccc3)cc2)CCOCC1)NO</td>\n    </tr>\n    <tr>\n      <th>19439</th>\n      <td>9abp</td>\n      <td>KQEPWFECTPPVDDQLVMMAAIALDTARRNMNDSTINGVDLGSPHV</td>\n      <td>OCC1OC(O)C(O)C(O)C1O</td>\n    </tr>\n    <tr>\n      <th>19440</th>\n      <td>9hvp</td>\n      <td>RPLLLDTGADDTVLKMIGGIGGFIVLTPVNIIGRRLLDTGADDTVK...</td>\n      <td>CC(C)C(NC(=O)OCc1ccccc1)C(=O)NC(Cc1ccccc1)C(O)...</td>\n    </tr>\n    <tr>\n      <th>19441</th>\n      <td>9icd</td>\n      <td>GIGDVPLTIGIAATHGTAPKYKVNPGSITYDFRLCNIAQQLR</td>\n      <td>Nc1ncnc2c1ncn2C1OC(COP(=O)(O)O)C(O)C1OP(=O)(O)O</td>\n    </tr>\n    <tr>\n      <th>19442</th>\n      <td>9lpr</td>\n      <td>ISLCSAGHCFPDGRTTVTANYAEGVLCMGRGDSGGMSGGNVQGNNSSL</td>\n      <td>CC(C)CC(NC(=O)C1CCCN1C(=O)C(C)NC(=O)C(C)[NH3+]...</td>\n    </tr>\n  </tbody>\n</table>\n<p>16200 rows × 3 columns</p>\n</div>"
     },
     "execution_count": 66,
     "metadata": {},
     "output_type": "execute_result"
    }
   ],
   "source": [
    "for i in range(data1.shape[0]):\n",
    "    if pd.isna(data1['ligand'][i]):\n",
    "        data1=data1.drop([i])\n",
    "        data2=data2.drop([i])"
   ],
   "metadata": {
    "collapsed": false,
    "pycharm": {
     "name": "#%%\n"
    }
   }
  },
  {
   "cell_type": "code",
   "execution_count": 68,
   "outputs": [],
   "source": [
    "data1.to_csv('pock_data.csv')\n",
    "data2.to_csv('pro_data.csv')"
   ],
   "metadata": {
    "collapsed": false,
    "pycharm": {
     "name": "#%%\n"
    }
   }
  },
  {
   "cell_type": "code",
   "execution_count": 69,
   "outputs": [
    {
     "data": {
      "text/plain": "129"
     },
     "execution_count": 69,
     "metadata": {},
     "output_type": "execute_result"
    }
   ],
   "source": [
    "l=0\n",
    "for i in data1['sequence']:\n",
    "   if len(i)>l:\n",
    "       l=len(i)\n",
    "l"
   ],
   "metadata": {
    "collapsed": false,
    "pycharm": {
     "name": "#%%\n"
    }
   }
  },
  {
   "cell_type": "code",
   "execution_count": null,
   "outputs": [],
   "source": [],
   "metadata": {
    "collapsed": false,
    "pycharm": {
     "name": "#%%\n"
    }
   }
  }
 ],
 "metadata": {
  "kernelspec": {
   "display_name": "Python 3",
   "language": "python",
   "name": "python3"
  },
  "language_info": {
   "codemirror_mode": {
    "name": "ipython",
    "version": 2
   },
   "file_extension": ".py",
   "mimetype": "text/x-python",
   "name": "python",
   "nbconvert_exporter": "python",
   "pygments_lexer": "ipython2",
   "version": "2.7.6"
  }
 },
 "nbformat": 4,
 "nbformat_minor": 0
}