{
 "cells": [
  {
   "cell_type": "code",
   "execution_count": 2,
   "metadata": {
    "collapsed": true
   },
   "outputs": [],
   "source": [
    "import numpy as np\n",
    "import pandas as pd\n",
    "import matplotlib.pyplot as plt\n",
    "from rdkit import Chem\n",
    "from tqdm import *\n",
    "data = pd.read_csv('./ligands_IC50_pdbbind.csv')"
   ]
  },
  {
   "cell_type": "code",
   "execution_count": 3,
   "outputs": [
    {
     "data": {
      "text/plain": "       uniprot_id                                                pdb  \\\n0          P29317  1mqb;2e8n;2k9y;2kso;2x10;2x11;3c8x;3czu;3fl7;3...   \n1          P29317  1mqb;2e8n;2k9y;2kso;2x10;2x11;3c8x;3czu;3fl7;3...   \n2          P29317  1mqb;2e8n;2k9y;2kso;2x10;2x11;3c8x;3czu;3fl7;3...   \n3          P29317  1mqb;2e8n;2k9y;2kso;2x10;2x11;3c8x;3czu;3fl7;3...   \n4          P29317  1mqb;2e8n;2k9y;2kso;2x10;2x11;3c8x;3czu;3fl7;3...   \n...           ...                                                ...   \n717453     P02710  1abt;1dxz;1idg;1idh;1lxg;1lxh;1tor;1tos;3mra;6...   \n717454     P69834  1w77;2yc3;2yc5;2ycm;4nai;4nak;4nal;4nan;5mrm;5...   \n717455     P69834  1w77;2yc3;2yc5;2ycm;4nai;4nak;4nal;4nan;5mrm;5...   \n717456     P69834  1w77;2yc3;2yc5;2ycm;4nai;4nak;4nal;4nan;5mrm;5...   \n717457     P69834  1w77;2yc3;2yc5;2ycm;4nai;4nak;4nal;4nan;5mrm;5...   \n\n       standard_type standard_relation  pchembl_value  \\\n0               IC50                 <           3.50   \n1               IC50                 <           3.50   \n2               IC50                 <           3.50   \n3               IC50                 <           3.50   \n4               IC50                 <           3.50   \n...              ...               ...            ...   \n717453          IC50                 =          10.00   \n717454          IC50                 =           5.20   \n717455          IC50                 =           5.75   \n717456          IC50                 =           6.85   \n717457          IC50                 =           7.46   \n\n                                           cleaned_smiles  exactmw  orig_idx  \\\n0       C[C@H](CCC(=O)N[C@@H](CC(=O)O)C(=O)O)[C@H]1CC[...  491.669       103   \n1       C[C@H](CCC(=O)N[C@H](CC(N)=O)C(=O)O)[C@H]1CC[C...  490.685       104   \n2       CC(=O)CNC(=O)CC[C@@H](C)[C@H]1CC[C@H]2[C@@H]3C...  431.661       105   \n3       C[C@H](CCC(=O)N[C@H](CC(=O)O)C(=O)O)[C@H]1CC[C...  491.669       106   \n4       C[C@H](CCC(=O)N[C@@H](CC(N)=O)C(=O)O)[C@H]1CC[...  490.685       107   \n...                                                   ...      ...       ...   \n717453                               CC(=O)C1=CCCC2CCC1N2  165.236   1137889   \n717454       COc1ccc2nc(NC(=O)COc3ccc(-c4ccccc4)cc3)sc2c1  390.464   1138279   \n717455      COc1ccc2nc(NC(=O)c3cc(-c4ccccc4O)n[nH]3)sc2c1  366.402   1138280   \n717456                      Oc1c(Cc2ccccc2)c(Cl)nc2ncnn12  260.684   1138281   \n717457                 N#Cc1cnn2c(O)c(Cc3ccccc3)c(Cl)nc12  284.706   1138282   \n\n        smilen    MolWt                                        pdbbind_pdb  \n0          102  491.669  5i9z;5nk7;5ia0;6fng;5ia5;5nki;5nk4;5nk2;5i9x;5...  \n1          101  490.685  5i9z;5nk7;5ia0;6fng;5ia5;5nki;5nk4;5nk2;5i9x;5...  \n2           89  431.661  5i9z;5nk7;5ia0;6fng;5ia5;5nki;5nk4;5nk2;5i9x;5...  \n3          101  491.669  5i9z;5nk7;5ia0;6fng;5ia5;5nki;5nk4;5nk2;5i9x;5...  \n4          102  490.685  5i9z;5nk7;5ia0;6fng;5ia5;5nki;5nk4;5nk2;5i9x;5...  \n...        ...      ...                                                ...  \n717453      20  165.236                                    1lxh;1abt;1idg;  \n717454      44  390.464      4nak;4nan;5mrm;2yc5;2yc3;2ycm;4nal;5mro;5mrp;  \n717455      45  366.402      4nak;4nan;5mrm;2yc5;2yc3;2ycm;4nal;5mro;5mrp;  \n717456      29  260.684      4nak;4nan;5mrm;2yc5;2yc3;2ycm;4nal;5mro;5mrp;  \n717457      34  284.706      4nak;4nan;5mrm;2yc5;2yc3;2ycm;4nal;5mro;5mrp;  \n\n[717458 rows x 11 columns]",
      "text/html": "<div>\n<style scoped>\n    .dataframe tbody tr th:only-of-type {\n        vertical-align: middle;\n    }\n\n    .dataframe tbody tr th {\n        vertical-align: top;\n    }\n\n    .dataframe thead th {\n        text-align: right;\n    }\n</style>\n<table border=\"1\" class=\"dataframe\">\n  <thead>\n    <tr style=\"text-align: right;\">\n      <th></th>\n      <th>uniprot_id</th>\n      <th>pdb</th>\n      <th>standard_type</th>\n      <th>standard_relation</th>\n      <th>pchembl_value</th>\n      <th>cleaned_smiles</th>\n      <th>exactmw</th>\n      <th>orig_idx</th>\n      <th>smilen</th>\n      <th>MolWt</th>\n      <th>pdbbind_pdb</th>\n    </tr>\n  </thead>\n  <tbody>\n    <tr>\n      <th>0</th>\n      <td>P29317</td>\n      <td>1mqb;2e8n;2k9y;2kso;2x10;2x11;3c8x;3czu;3fl7;3...</td>\n      <td>IC50</td>\n      <td>&lt;</td>\n      <td>3.50</td>\n      <td>C[C@H](CCC(=O)N[C@@H](CC(=O)O)C(=O)O)[C@H]1CC[...</td>\n      <td>491.669</td>\n      <td>103</td>\n      <td>102</td>\n      <td>491.669</td>\n      <td>5i9z;5nk7;5ia0;6fng;5ia5;5nki;5nk4;5nk2;5i9x;5...</td>\n    </tr>\n    <tr>\n      <th>1</th>\n      <td>P29317</td>\n      <td>1mqb;2e8n;2k9y;2kso;2x10;2x11;3c8x;3czu;3fl7;3...</td>\n      <td>IC50</td>\n      <td>&lt;</td>\n      <td>3.50</td>\n      <td>C[C@H](CCC(=O)N[C@H](CC(N)=O)C(=O)O)[C@H]1CC[C...</td>\n      <td>490.685</td>\n      <td>104</td>\n      <td>101</td>\n      <td>490.685</td>\n      <td>5i9z;5nk7;5ia0;6fng;5ia5;5nki;5nk4;5nk2;5i9x;5...</td>\n    </tr>\n    <tr>\n      <th>2</th>\n      <td>P29317</td>\n      <td>1mqb;2e8n;2k9y;2kso;2x10;2x11;3c8x;3czu;3fl7;3...</td>\n      <td>IC50</td>\n      <td>&lt;</td>\n      <td>3.50</td>\n      <td>CC(=O)CNC(=O)CC[C@@H](C)[C@H]1CC[C@H]2[C@@H]3C...</td>\n      <td>431.661</td>\n      <td>105</td>\n      <td>89</td>\n      <td>431.661</td>\n      <td>5i9z;5nk7;5ia0;6fng;5ia5;5nki;5nk4;5nk2;5i9x;5...</td>\n    </tr>\n    <tr>\n      <th>3</th>\n      <td>P29317</td>\n      <td>1mqb;2e8n;2k9y;2kso;2x10;2x11;3c8x;3czu;3fl7;3...</td>\n      <td>IC50</td>\n      <td>&lt;</td>\n      <td>3.50</td>\n      <td>C[C@H](CCC(=O)N[C@H](CC(=O)O)C(=O)O)[C@H]1CC[C...</td>\n      <td>491.669</td>\n      <td>106</td>\n      <td>101</td>\n      <td>491.669</td>\n      <td>5i9z;5nk7;5ia0;6fng;5ia5;5nki;5nk4;5nk2;5i9x;5...</td>\n    </tr>\n    <tr>\n      <th>4</th>\n      <td>P29317</td>\n      <td>1mqb;2e8n;2k9y;2kso;2x10;2x11;3c8x;3czu;3fl7;3...</td>\n      <td>IC50</td>\n      <td>&lt;</td>\n      <td>3.50</td>\n      <td>C[C@H](CCC(=O)N[C@@H](CC(N)=O)C(=O)O)[C@H]1CC[...</td>\n      <td>490.685</td>\n      <td>107</td>\n      <td>102</td>\n      <td>490.685</td>\n      <td>5i9z;5nk7;5ia0;6fng;5ia5;5nki;5nk4;5nk2;5i9x;5...</td>\n    </tr>\n    <tr>\n      <th>...</th>\n      <td>...</td>\n      <td>...</td>\n      <td>...</td>\n      <td>...</td>\n      <td>...</td>\n      <td>...</td>\n      <td>...</td>\n      <td>...</td>\n      <td>...</td>\n      <td>...</td>\n      <td>...</td>\n    </tr>\n    <tr>\n      <th>717453</th>\n      <td>P02710</td>\n      <td>1abt;1dxz;1idg;1idh;1lxg;1lxh;1tor;1tos;3mra;6...</td>\n      <td>IC50</td>\n      <td>=</td>\n      <td>10.00</td>\n      <td>CC(=O)C1=CCCC2CCC1N2</td>\n      <td>165.236</td>\n      <td>1137889</td>\n      <td>20</td>\n      <td>165.236</td>\n      <td>1lxh;1abt;1idg;</td>\n    </tr>\n    <tr>\n      <th>717454</th>\n      <td>P69834</td>\n      <td>1w77;2yc3;2yc5;2ycm;4nai;4nak;4nal;4nan;5mrm;5...</td>\n      <td>IC50</td>\n      <td>=</td>\n      <td>5.20</td>\n      <td>COc1ccc2nc(NC(=O)COc3ccc(-c4ccccc4)cc3)sc2c1</td>\n      <td>390.464</td>\n      <td>1138279</td>\n      <td>44</td>\n      <td>390.464</td>\n      <td>4nak;4nan;5mrm;2yc5;2yc3;2ycm;4nal;5mro;5mrp;</td>\n    </tr>\n    <tr>\n      <th>717455</th>\n      <td>P69834</td>\n      <td>1w77;2yc3;2yc5;2ycm;4nai;4nak;4nal;4nan;5mrm;5...</td>\n      <td>IC50</td>\n      <td>=</td>\n      <td>5.75</td>\n      <td>COc1ccc2nc(NC(=O)c3cc(-c4ccccc4O)n[nH]3)sc2c1</td>\n      <td>366.402</td>\n      <td>1138280</td>\n      <td>45</td>\n      <td>366.402</td>\n      <td>4nak;4nan;5mrm;2yc5;2yc3;2ycm;4nal;5mro;5mrp;</td>\n    </tr>\n    <tr>\n      <th>717456</th>\n      <td>P69834</td>\n      <td>1w77;2yc3;2yc5;2ycm;4nai;4nak;4nal;4nan;5mrm;5...</td>\n      <td>IC50</td>\n      <td>=</td>\n      <td>6.85</td>\n      <td>Oc1c(Cc2ccccc2)c(Cl)nc2ncnn12</td>\n      <td>260.684</td>\n      <td>1138281</td>\n      <td>29</td>\n      <td>260.684</td>\n      <td>4nak;4nan;5mrm;2yc5;2yc3;2ycm;4nal;5mro;5mrp;</td>\n    </tr>\n    <tr>\n      <th>717457</th>\n      <td>P69834</td>\n      <td>1w77;2yc3;2yc5;2ycm;4nai;4nak;4nal;4nan;5mrm;5...</td>\n      <td>IC50</td>\n      <td>=</td>\n      <td>7.46</td>\n      <td>N#Cc1cnn2c(O)c(Cc3ccccc3)c(Cl)nc12</td>\n      <td>284.706</td>\n      <td>1138282</td>\n      <td>34</td>\n      <td>284.706</td>\n      <td>4nak;4nan;5mrm;2yc5;2yc3;2ycm;4nal;5mro;5mrp;</td>\n    </tr>\n  </tbody>\n</table>\n<p>717458 rows × 11 columns</p>\n</div>"
     },
     "execution_count": 3,
     "metadata": {},
     "output_type": "execute_result"
    }
   ],
   "source": [
    "data"
   ],
   "metadata": {
    "collapsed": false,
    "pycharm": {
     "name": "#%%\n"
    }
   }
  },
  {
   "cell_type": "code",
   "execution_count": 5,
   "outputs": [
    {
     "data": {
      "text/plain": "numpy.float64"
     },
     "execution_count": 5,
     "metadata": {},
     "output_type": "execute_result"
    }
   ],
   "source": [
    "type(data['pchembl_value'][0])"
   ],
   "metadata": {
    "collapsed": false,
    "pycharm": {
     "name": "#%%\n"
    }
   }
  },
  {
   "cell_type": "code",
   "execution_count": 9,
   "outputs": [
    {
     "data": {
      "text/plain": "       uniprot_id                                                pdb  \\\n0          P29317  1mqb;2e8n;2k9y;2kso;2x10;2x11;3c8x;3czu;3fl7;3...   \n1          P29317  1mqb;2e8n;2k9y;2kso;2x10;2x11;3c8x;3czu;3fl7;3...   \n2          P29317  1mqb;2e8n;2k9y;2kso;2x10;2x11;3c8x;3czu;3fl7;3...   \n3          P29317  1mqb;2e8n;2k9y;2kso;2x10;2x11;3c8x;3czu;3fl7;3...   \n4          P29317  1mqb;2e8n;2k9y;2kso;2x10;2x11;3c8x;3czu;3fl7;3...   \n...           ...                                                ...   \n717453     P02710  1abt;1dxz;1idg;1idh;1lxg;1lxh;1tor;1tos;3mra;6...   \n717454     P69834  1w77;2yc3;2yc5;2ycm;4nai;4nak;4nal;4nan;5mrm;5...   \n717455     P69834  1w77;2yc3;2yc5;2ycm;4nai;4nak;4nal;4nan;5mrm;5...   \n717456     P69834  1w77;2yc3;2yc5;2ycm;4nai;4nak;4nal;4nan;5mrm;5...   \n717457     P69834  1w77;2yc3;2yc5;2ycm;4nai;4nak;4nal;4nan;5mrm;5...   \n\n       standard_type standard_relation  pchembl_value  \\\n0               IC50                 <           3.50   \n1               IC50                 <           3.50   \n2               IC50                 <           3.50   \n3               IC50                 <           3.50   \n4               IC50                 <           3.50   \n...              ...               ...            ...   \n717453          IC50                 =          10.00   \n717454          IC50                 =           5.20   \n717455          IC50                 =           5.75   \n717456          IC50                 =           6.85   \n717457          IC50                 =           7.46   \n\n                                           cleaned_smiles  exactmw  orig_idx  \\\n0       C[C@H](CCC(=O)N[C@@H](CC(=O)O)C(=O)O)[C@H]1CC[...  491.669       103   \n1       C[C@H](CCC(=O)N[C@H](CC(N)=O)C(=O)O)[C@H]1CC[C...  490.685       104   \n2       CC(=O)CNC(=O)CC[C@@H](C)[C@H]1CC[C@H]2[C@@H]3C...  431.661       105   \n3       C[C@H](CCC(=O)N[C@H](CC(=O)O)C(=O)O)[C@H]1CC[C...  491.669       106   \n4       C[C@H](CCC(=O)N[C@@H](CC(N)=O)C(=O)O)[C@H]1CC[...  490.685       107   \n...                                                   ...      ...       ...   \n717453                               CC(=O)C1=CCCC2CCC1N2  165.236   1137889   \n717454       COc1ccc2nc(NC(=O)COc3ccc(-c4ccccc4)cc3)sc2c1  390.464   1138279   \n717455      COc1ccc2nc(NC(=O)c3cc(-c4ccccc4O)n[nH]3)sc2c1  366.402   1138280   \n717456                      Oc1c(Cc2ccccc2)c(Cl)nc2ncnn12  260.684   1138281   \n717457                 N#Cc1cnn2c(O)c(Cc3ccccc3)c(Cl)nc12  284.706   1138282   \n\n        smilen    MolWt                                        pdbbind_pdb  \n0          102  491.669  5i9z;5nk7;5ia0;6fng;5ia5;5nki;5nk4;5nk2;5i9x;5...  \n1          101  490.685  5i9z;5nk7;5ia0;6fng;5ia5;5nki;5nk4;5nk2;5i9x;5...  \n2           89  431.661  5i9z;5nk7;5ia0;6fng;5ia5;5nki;5nk4;5nk2;5i9x;5...  \n3          101  491.669  5i9z;5nk7;5ia0;6fng;5ia5;5nki;5nk4;5nk2;5i9x;5...  \n4          102  490.685  5i9z;5nk7;5ia0;6fng;5ia5;5nki;5nk4;5nk2;5i9x;5...  \n...        ...      ...                                                ...  \n717453      20  165.236                                    1lxh;1abt;1idg;  \n717454      44  390.464      4nak;4nan;5mrm;2yc5;2yc3;2ycm;4nal;5mro;5mrp;  \n717455      45  366.402      4nak;4nan;5mrm;2yc5;2yc3;2ycm;4nal;5mro;5mrp;  \n717456      29  260.684      4nak;4nan;5mrm;2yc5;2yc3;2ycm;4nal;5mro;5mrp;  \n717457      34  284.706      4nak;4nan;5mrm;2yc5;2yc3;2ycm;4nal;5mro;5mrp;  \n\n[717458 rows x 11 columns]",
      "text/html": "<div>\n<style scoped>\n    .dataframe tbody tr th:only-of-type {\n        vertical-align: middle;\n    }\n\n    .dataframe tbody tr th {\n        vertical-align: top;\n    }\n\n    .dataframe thead th {\n        text-align: right;\n    }\n</style>\n<table border=\"1\" class=\"dataframe\">\n  <thead>\n    <tr style=\"text-align: right;\">\n      <th></th>\n      <th>uniprot_id</th>\n      <th>pdb</th>\n      <th>standard_type</th>\n      <th>standard_relation</th>\n      <th>pchembl_value</th>\n      <th>cleaned_smiles</th>\n      <th>exactmw</th>\n      <th>orig_idx</th>\n      <th>smilen</th>\n      <th>MolWt</th>\n      <th>pdbbind_pdb</th>\n    </tr>\n  </thead>\n  <tbody>\n    <tr>\n      <th>0</th>\n      <td>P29317</td>\n      <td>1mqb;2e8n;2k9y;2kso;2x10;2x11;3c8x;3czu;3fl7;3...</td>\n      <td>IC50</td>\n      <td>&lt;</td>\n      <td>3.50</td>\n      <td>C[C@H](CCC(=O)N[C@@H](CC(=O)O)C(=O)O)[C@H]1CC[...</td>\n      <td>491.669</td>\n      <td>103</td>\n      <td>102</td>\n      <td>491.669</td>\n      <td>5i9z;5nk7;5ia0;6fng;5ia5;5nki;5nk4;5nk2;5i9x;5...</td>\n    </tr>\n    <tr>\n      <th>1</th>\n      <td>P29317</td>\n      <td>1mqb;2e8n;2k9y;2kso;2x10;2x11;3c8x;3czu;3fl7;3...</td>\n      <td>IC50</td>\n      <td>&lt;</td>\n      <td>3.50</td>\n      <td>C[C@H](CCC(=O)N[C@H](CC(N)=O)C(=O)O)[C@H]1CC[C...</td>\n      <td>490.685</td>\n      <td>104</td>\n      <td>101</td>\n      <td>490.685</td>\n      <td>5i9z;5nk7;5ia0;6fng;5ia5;5nki;5nk4;5nk2;5i9x;5...</td>\n    </tr>\n    <tr>\n      <th>2</th>\n      <td>P29317</td>\n      <td>1mqb;2e8n;2k9y;2kso;2x10;2x11;3c8x;3czu;3fl7;3...</td>\n      <td>IC50</td>\n      <td>&lt;</td>\n      <td>3.50</td>\n      <td>CC(=O)CNC(=O)CC[C@@H](C)[C@H]1CC[C@H]2[C@@H]3C...</td>\n      <td>431.661</td>\n      <td>105</td>\n      <td>89</td>\n      <td>431.661</td>\n      <td>5i9z;5nk7;5ia0;6fng;5ia5;5nki;5nk4;5nk2;5i9x;5...</td>\n    </tr>\n    <tr>\n      <th>3</th>\n      <td>P29317</td>\n      <td>1mqb;2e8n;2k9y;2kso;2x10;2x11;3c8x;3czu;3fl7;3...</td>\n      <td>IC50</td>\n      <td>&lt;</td>\n      <td>3.50</td>\n      <td>C[C@H](CCC(=O)N[C@H](CC(=O)O)C(=O)O)[C@H]1CC[C...</td>\n      <td>491.669</td>\n      <td>106</td>\n      <td>101</td>\n      <td>491.669</td>\n      <td>5i9z;5nk7;5ia0;6fng;5ia5;5nki;5nk4;5nk2;5i9x;5...</td>\n    </tr>\n    <tr>\n      <th>4</th>\n      <td>P29317</td>\n      <td>1mqb;2e8n;2k9y;2kso;2x10;2x11;3c8x;3czu;3fl7;3...</td>\n      <td>IC50</td>\n      <td>&lt;</td>\n      <td>3.50</td>\n      <td>C[C@H](CCC(=O)N[C@@H](CC(N)=O)C(=O)O)[C@H]1CC[...</td>\n      <td>490.685</td>\n      <td>107</td>\n      <td>102</td>\n      <td>490.685</td>\n      <td>5i9z;5nk7;5ia0;6fng;5ia5;5nki;5nk4;5nk2;5i9x;5...</td>\n    </tr>\n    <tr>\n      <th>...</th>\n      <td>...</td>\n      <td>...</td>\n      <td>...</td>\n      <td>...</td>\n      <td>...</td>\n      <td>...</td>\n      <td>...</td>\n      <td>...</td>\n      <td>...</td>\n      <td>...</td>\n      <td>...</td>\n    </tr>\n    <tr>\n      <th>717453</th>\n      <td>P02710</td>\n      <td>1abt;1dxz;1idg;1idh;1lxg;1lxh;1tor;1tos;3mra;6...</td>\n      <td>IC50</td>\n      <td>=</td>\n      <td>10.00</td>\n      <td>CC(=O)C1=CCCC2CCC1N2</td>\n      <td>165.236</td>\n      <td>1137889</td>\n      <td>20</td>\n      <td>165.236</td>\n      <td>1lxh;1abt;1idg;</td>\n    </tr>\n    <tr>\n      <th>717454</th>\n      <td>P69834</td>\n      <td>1w77;2yc3;2yc5;2ycm;4nai;4nak;4nal;4nan;5mrm;5...</td>\n      <td>IC50</td>\n      <td>=</td>\n      <td>5.20</td>\n      <td>COc1ccc2nc(NC(=O)COc3ccc(-c4ccccc4)cc3)sc2c1</td>\n      <td>390.464</td>\n      <td>1138279</td>\n      <td>44</td>\n      <td>390.464</td>\n      <td>4nak;4nan;5mrm;2yc5;2yc3;2ycm;4nal;5mro;5mrp;</td>\n    </tr>\n    <tr>\n      <th>717455</th>\n      <td>P69834</td>\n      <td>1w77;2yc3;2yc5;2ycm;4nai;4nak;4nal;4nan;5mrm;5...</td>\n      <td>IC50</td>\n      <td>=</td>\n      <td>5.75</td>\n      <td>COc1ccc2nc(NC(=O)c3cc(-c4ccccc4O)n[nH]3)sc2c1</td>\n      <td>366.402</td>\n      <td>1138280</td>\n      <td>45</td>\n      <td>366.402</td>\n      <td>4nak;4nan;5mrm;2yc5;2yc3;2ycm;4nal;5mro;5mrp;</td>\n    </tr>\n    <tr>\n      <th>717456</th>\n      <td>P69834</td>\n      <td>1w77;2yc3;2yc5;2ycm;4nai;4nak;4nal;4nan;5mrm;5...</td>\n      <td>IC50</td>\n      <td>=</td>\n      <td>6.85</td>\n      <td>Oc1c(Cc2ccccc2)c(Cl)nc2ncnn12</td>\n      <td>260.684</td>\n      <td>1138281</td>\n      <td>29</td>\n      <td>260.684</td>\n      <td>4nak;4nan;5mrm;2yc5;2yc3;2ycm;4nal;5mro;5mrp;</td>\n    </tr>\n    <tr>\n      <th>717457</th>\n      <td>P69834</td>\n      <td>1w77;2yc3;2yc5;2ycm;4nai;4nak;4nal;4nan;5mrm;5...</td>\n      <td>IC50</td>\n      <td>=</td>\n      <td>7.46</td>\n      <td>N#Cc1cnn2c(O)c(Cc3ccccc3)c(Cl)nc12</td>\n      <td>284.706</td>\n      <td>1138282</td>\n      <td>34</td>\n      <td>284.706</td>\n      <td>4nak;4nan;5mrm;2yc5;2yc3;2ycm;4nal;5mro;5mrp;</td>\n    </tr>\n  </tbody>\n</table>\n<p>717458 rows × 11 columns</p>\n</div>"
     },
     "execution_count": 9,
     "metadata": {},
     "output_type": "execute_result"
    }
   ],
   "source": [
    "for i in range(data.shape[0]):\n",
    "    if data['standard_relation'][i]=='<' and data['pchembl_value'][i]>6.5:\n",
    "        data = data.drop([i])\n",
    "    if  data['standard_relation'][i]=='>' and data['pchembl_value'][i]<6.5:\n",
    "        data = data.drop([i])\n",
    "data"
   ],
   "metadata": {
    "collapsed": false,
    "pycharm": {
     "name": "#%%\n"
    }
   }
  },
  {
   "cell_type": "code",
   "execution_count": 12,
   "outputs": [
    {
     "data": {
      "text/plain": "       uniprot_id                                                pdb  \\\n0          P29317  1mqb;2e8n;2k9y;2kso;2x10;2x11;3c8x;3czu;3fl7;3...   \n2          P29317  1mqb;2e8n;2k9y;2kso;2x10;2x11;3c8x;3czu;3fl7;3...   \n3          P29317  1mqb;2e8n;2k9y;2kso;2x10;2x11;3c8x;3czu;3fl7;3...   \n4          P29317  1mqb;2e8n;2k9y;2kso;2x10;2x11;3c8x;3czu;3fl7;3...   \n5          P29317  1mqb;2e8n;2k9y;2kso;2x10;2x11;3c8x;3czu;3fl7;3...   \n...           ...                                                ...   \n717453     P02710  1abt;1dxz;1idg;1idh;1lxg;1lxh;1tor;1tos;3mra;6...   \n717454     P69834  1w77;2yc3;2yc5;2ycm;4nai;4nak;4nal;4nan;5mrm;5...   \n717455     P69834  1w77;2yc3;2yc5;2ycm;4nai;4nak;4nal;4nan;5mrm;5...   \n717456     P69834  1w77;2yc3;2yc5;2ycm;4nai;4nak;4nal;4nan;5mrm;5...   \n717457     P69834  1w77;2yc3;2yc5;2ycm;4nai;4nak;4nal;4nan;5mrm;5...   \n\n       standard_type standard_relation  pchembl_value  \\\n0               IC50                 <           3.50   \n2               IC50                 <           3.50   \n3               IC50                 <           3.50   \n4               IC50                 <           3.50   \n5               IC50                 >           4.00   \n...              ...               ...            ...   \n717453          IC50                 =          10.00   \n717454          IC50                 =           5.20   \n717455          IC50                 =           5.75   \n717456          IC50                 =           6.85   \n717457          IC50                 =           7.46   \n\n                                           cleaned_smiles   exactmw  orig_idx  \\\n0       C[C@H](CCC(=O)N[C@@H](CC(=O)O)C(=O)O)[C@H]1CC[...   491.669       103   \n2       CC(=O)CNC(=O)CC[C@@H](C)[C@H]1CC[C@H]2[C@@H]3C...   431.661       105   \n3       C[C@H](CCC(=O)N[C@H](CC(=O)O)C(=O)O)[C@H]1CC[C...   491.669       106   \n4       C[C@H](CCC(=O)N[C@@H](CC(N)=O)C(=O)O)[C@H]1CC[...   490.685       107   \n5       CC(C)C[C@H](NC(=O)[C@H](Cc1c[nH]c2ccccc12)NC(=...  1385.545       108   \n...                                                   ...       ...       ...   \n717453                               CC(=O)C1=CCCC2CCC1N2   165.236   1137889   \n717454       COc1ccc2nc(NC(=O)COc3ccc(-c4ccccc4)cc3)sc2c1   390.464   1138279   \n717455      COc1ccc2nc(NC(=O)c3cc(-c4ccccc4O)n[nH]3)sc2c1   366.402   1138280   \n717456                      Oc1c(Cc2ccccc2)c(Cl)nc2ncnn12   260.684   1138281   \n717457                 N#Cc1cnn2c(O)c(Cc3ccccc3)c(Cl)nc12   284.706   1138282   \n\n        smilen     MolWt                                        pdbbind_pdb  \n0          102   491.669  5i9z;5nk7;5ia0;6fng;5ia5;5nki;5nk4;5nk2;5i9x;5...  \n2           89   431.661  5i9z;5nk7;5ia0;6fng;5ia5;5nki;5nk4;5nk2;5i9x;5...  \n3          101   491.669  5i9z;5nk7;5ia0;6fng;5ia5;5nki;5nk4;5nk2;5i9x;5...  \n4          102   490.685  5i9z;5nk7;5ia0;6fng;5ia5;5nki;5nk4;5nk2;5i9x;5...  \n5          230  1385.545  5i9z;5nk7;5ia0;6fng;5ia5;5nki;5nk4;5nk2;5i9x;5...  \n...        ...       ...                                                ...  \n717453      20   165.236                                    1lxh;1abt;1idg;  \n717454      44   390.464      4nak;4nan;5mrm;2yc5;2yc3;2ycm;4nal;5mro;5mrp;  \n717455      45   366.402      4nak;4nan;5mrm;2yc5;2yc3;2ycm;4nal;5mro;5mrp;  \n717456      29   260.684      4nak;4nan;5mrm;2yc5;2yc3;2ycm;4nal;5mro;5mrp;  \n717457      34   284.706      4nak;4nan;5mrm;2yc5;2yc3;2ycm;4nal;5mro;5mrp;  \n\n[717457 rows x 11 columns]",
      "text/html": "<div>\n<style scoped>\n    .dataframe tbody tr th:only-of-type {\n        vertical-align: middle;\n    }\n\n    .dataframe tbody tr th {\n        vertical-align: top;\n    }\n\n    .dataframe thead th {\n        text-align: right;\n    }\n</style>\n<table border=\"1\" class=\"dataframe\">\n  <thead>\n    <tr style=\"text-align: right;\">\n      <th></th>\n      <th>uniprot_id</th>\n      <th>pdb</th>\n      <th>standard_type</th>\n      <th>standard_relation</th>\n      <th>pchembl_value</th>\n      <th>cleaned_smiles</th>\n      <th>exactmw</th>\n      <th>orig_idx</th>\n      <th>smilen</th>\n      <th>MolWt</th>\n      <th>pdbbind_pdb</th>\n    </tr>\n  </thead>\n  <tbody>\n    <tr>\n      <th>0</th>\n      <td>P29317</td>\n      <td>1mqb;2e8n;2k9y;2kso;2x10;2x11;3c8x;3czu;3fl7;3...</td>\n      <td>IC50</td>\n      <td>&lt;</td>\n      <td>3.50</td>\n      <td>C[C@H](CCC(=O)N[C@@H](CC(=O)O)C(=O)O)[C@H]1CC[...</td>\n      <td>491.669</td>\n      <td>103</td>\n      <td>102</td>\n      <td>491.669</td>\n      <td>5i9z;5nk7;5ia0;6fng;5ia5;5nki;5nk4;5nk2;5i9x;5...</td>\n    </tr>\n    <tr>\n      <th>2</th>\n      <td>P29317</td>\n      <td>1mqb;2e8n;2k9y;2kso;2x10;2x11;3c8x;3czu;3fl7;3...</td>\n      <td>IC50</td>\n      <td>&lt;</td>\n      <td>3.50</td>\n      <td>CC(=O)CNC(=O)CC[C@@H](C)[C@H]1CC[C@H]2[C@@H]3C...</td>\n      <td>431.661</td>\n      <td>105</td>\n      <td>89</td>\n      <td>431.661</td>\n      <td>5i9z;5nk7;5ia0;6fng;5ia5;5nki;5nk4;5nk2;5i9x;5...</td>\n    </tr>\n    <tr>\n      <th>3</th>\n      <td>P29317</td>\n      <td>1mqb;2e8n;2k9y;2kso;2x10;2x11;3c8x;3czu;3fl7;3...</td>\n      <td>IC50</td>\n      <td>&lt;</td>\n      <td>3.50</td>\n      <td>C[C@H](CCC(=O)N[C@H](CC(=O)O)C(=O)O)[C@H]1CC[C...</td>\n      <td>491.669</td>\n      <td>106</td>\n      <td>101</td>\n      <td>491.669</td>\n      <td>5i9z;5nk7;5ia0;6fng;5ia5;5nki;5nk4;5nk2;5i9x;5...</td>\n    </tr>\n    <tr>\n      <th>4</th>\n      <td>P29317</td>\n      <td>1mqb;2e8n;2k9y;2kso;2x10;2x11;3c8x;3czu;3fl7;3...</td>\n      <td>IC50</td>\n      <td>&lt;</td>\n      <td>3.50</td>\n      <td>C[C@H](CCC(=O)N[C@@H](CC(N)=O)C(=O)O)[C@H]1CC[...</td>\n      <td>490.685</td>\n      <td>107</td>\n      <td>102</td>\n      <td>490.685</td>\n      <td>5i9z;5nk7;5ia0;6fng;5ia5;5nki;5nk4;5nk2;5i9x;5...</td>\n    </tr>\n    <tr>\n      <th>5</th>\n      <td>P29317</td>\n      <td>1mqb;2e8n;2k9y;2kso;2x10;2x11;3c8x;3czu;3fl7;3...</td>\n      <td>IC50</td>\n      <td>&gt;</td>\n      <td>4.00</td>\n      <td>CC(C)C[C@H](NC(=O)[C@H](Cc1c[nH]c2ccccc12)NC(=...</td>\n      <td>1385.545</td>\n      <td>108</td>\n      <td>230</td>\n      <td>1385.545</td>\n      <td>5i9z;5nk7;5ia0;6fng;5ia5;5nki;5nk4;5nk2;5i9x;5...</td>\n    </tr>\n    <tr>\n      <th>...</th>\n      <td>...</td>\n      <td>...</td>\n      <td>...</td>\n      <td>...</td>\n      <td>...</td>\n      <td>...</td>\n      <td>...</td>\n      <td>...</td>\n      <td>...</td>\n      <td>...</td>\n      <td>...</td>\n    </tr>\n    <tr>\n      <th>717453</th>\n      <td>P02710</td>\n      <td>1abt;1dxz;1idg;1idh;1lxg;1lxh;1tor;1tos;3mra;6...</td>\n      <td>IC50</td>\n      <td>=</td>\n      <td>10.00</td>\n      <td>CC(=O)C1=CCCC2CCC1N2</td>\n      <td>165.236</td>\n      <td>1137889</td>\n      <td>20</td>\n      <td>165.236</td>\n      <td>1lxh;1abt;1idg;</td>\n    </tr>\n    <tr>\n      <th>717454</th>\n      <td>P69834</td>\n      <td>1w77;2yc3;2yc5;2ycm;4nai;4nak;4nal;4nan;5mrm;5...</td>\n      <td>IC50</td>\n      <td>=</td>\n      <td>5.20</td>\n      <td>COc1ccc2nc(NC(=O)COc3ccc(-c4ccccc4)cc3)sc2c1</td>\n      <td>390.464</td>\n      <td>1138279</td>\n      <td>44</td>\n      <td>390.464</td>\n      <td>4nak;4nan;5mrm;2yc5;2yc3;2ycm;4nal;5mro;5mrp;</td>\n    </tr>\n    <tr>\n      <th>717455</th>\n      <td>P69834</td>\n      <td>1w77;2yc3;2yc5;2ycm;4nai;4nak;4nal;4nan;5mrm;5...</td>\n      <td>IC50</td>\n      <td>=</td>\n      <td>5.75</td>\n      <td>COc1ccc2nc(NC(=O)c3cc(-c4ccccc4O)n[nH]3)sc2c1</td>\n      <td>366.402</td>\n      <td>1138280</td>\n      <td>45</td>\n      <td>366.402</td>\n      <td>4nak;4nan;5mrm;2yc5;2yc3;2ycm;4nal;5mro;5mrp;</td>\n    </tr>\n    <tr>\n      <th>717456</th>\n      <td>P69834</td>\n      <td>1w77;2yc3;2yc5;2ycm;4nai;4nak;4nal;4nan;5mrm;5...</td>\n      <td>IC50</td>\n      <td>=</td>\n      <td>6.85</td>\n      <td>Oc1c(Cc2ccccc2)c(Cl)nc2ncnn12</td>\n      <td>260.684</td>\n      <td>1138281</td>\n      <td>29</td>\n      <td>260.684</td>\n      <td>4nak;4nan;5mrm;2yc5;2yc3;2ycm;4nal;5mro;5mrp;</td>\n    </tr>\n    <tr>\n      <th>717457</th>\n      <td>P69834</td>\n      <td>1w77;2yc3;2yc5;2ycm;4nai;4nak;4nal;4nan;5mrm;5...</td>\n      <td>IC50</td>\n      <td>=</td>\n      <td>7.46</td>\n      <td>N#Cc1cnn2c(O)c(Cc3ccccc3)c(Cl)nc12</td>\n      <td>284.706</td>\n      <td>1138282</td>\n      <td>34</td>\n      <td>284.706</td>\n      <td>4nak;4nan;5mrm;2yc5;2yc3;2ycm;4nal;5mro;5mrp;</td>\n    </tr>\n  </tbody>\n</table>\n<p>717457 rows × 11 columns</p>\n</div>"
     },
     "execution_count": 12,
     "metadata": {},
     "output_type": "execute_result"
    }
   ],
   "source": [],
   "metadata": {
    "collapsed": false,
    "pycharm": {
     "name": "#%%\n"
    }
   }
  },
  {
   "cell_type": "code",
   "execution_count": null,
   "outputs": [],
   "source": [],
   "metadata": {
    "collapsed": false,
    "pycharm": {
     "name": "#%%\n"
    }
   }
  }
 ],
 "metadata": {
  "kernelspec": {
   "display_name": "Python 3",
   "language": "python",
   "name": "python3"
  },
  "language_info": {
   "codemirror_mode": {
    "name": "ipython",
    "version": 2
   },
   "file_extension": ".py",
   "mimetype": "text/x-python",
   "name": "python",
   "nbconvert_exporter": "python",
   "pygments_lexer": "ipython2",
   "version": "2.7.6"
  }
 },
 "nbformat": 4,
 "nbformat_minor": 0
}