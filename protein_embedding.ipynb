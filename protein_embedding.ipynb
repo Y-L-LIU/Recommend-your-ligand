{
 "cells": [
  {
   "cell_type": "code",
   "execution_count": 1,
   "metadata": {
    "collapsed": true
   },
   "outputs": [],
   "source": [
    "import numpy as np\n",
    "import pandas as pd\n",
    "import matplotlib as plt\n",
    "from rdkit import Chem\n",
    "from tqdm.notebook import tqdm"
   ]
  },
  {
   "cell_type": "code",
   "execution_count": null,
   "outputs": [],
   "source": [
    "from proteinbert import load_pretrained_model\n",
    "from proteinbert.conv_and_global_attention_model import get_model_with_hidden_layers_as_outputs\n",
    "df = pd.read_csv('./pocket_sequence.csv')\n",
    "seqs=df['sequence']\n",
    "lens = [len(item) for item in seqs]\n",
    "pretrained_model_generator, input_encoder = load_pretrained_model()\n",
    "# model = get_model_with_hidden_layers_as_outputs(pretrained_model_generator.create_model(144))\n",
    "# X = input_encoder.encode_X(seqs, 144)\n",
    "# local_representations, global_representations= model.predict(X, batch_size = 8)"
   ],
   "metadata": {
    "collapsed": false,
    "pycharm": {
     "name": "#%%\n"
    }
   }
  },
  {
   "cell_type": "code",
   "execution_count": null,
   "outputs": [],
   "source": [
    "with open('pro_seq.csv','w') as f:\n",
    "    f.write('id'+',')\n",
    "    f.write('seq'+'\\n')\n",
    "    for index,item in tqdm(enumerate(seqs)):\n",
    "      seq_len = lens[index] + 2\n",
    "      try:\n",
    "        del model\n",
    "      except:\n",
    "        pass\n",
    "      model = get_model_with_hidden_layers_as_outputs(pretrained_model_generator.create_model(seq_len))\n",
    "      X = input_encoder.encode_X([item], seq_len)\n",
    "      local_representations, global_representations= model.predict(X, batch_size = 1)\n",
    "      local_representations_mean = np.mean(local_representations, axis=1)\n",
    "      #print(local_representations_mean.shape, global_representations.shape)\n",
    "      f.write(df['id'][index]+',')\n",
    "      f.write(local_representations_mean+'\\n')"
   ],
   "metadata": {
    "collapsed": false,
    "pycharm": {
     "name": "#%%\n"
    }
   }
  }
 ],
 "metadata": {
  "kernelspec": {
   "display_name": "Python 3",
   "language": "python",
   "name": "python3"
  },
  "language_info": {
   "codemirror_mode": {
    "name": "ipython",
    "version": 2
   },
   "file_extension": ".py",
   "mimetype": "text/x-python",
   "name": "python",
   "nbconvert_exporter": "python",
   "pygments_lexer": "ipython2",
   "version": "2.7.6"
  }
 },
 "nbformat": 4,
 "nbformat_minor": 0
}